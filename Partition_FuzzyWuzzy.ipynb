{
 "cells": [
  {
   "cell_type": "code",
   "execution_count": 1,
   "id": "9c5c3005",
   "metadata": {},
   "outputs": [],
   "source": [
    "from fuzzywuzzy import fuzz \n",
    "from fuzzywuzzy import process "
   ]
  },
  {
   "cell_type": "code",
   "execution_count": 3,
   "id": "181d2629",
   "metadata": {},
   "outputs": [
    {
     "data": {
      "text/plain": [
       "[('geeks geeks', 95), ('g. for geeks', 95), ('geek for geek', 93)]"
      ]
     },
     "execution_count": 3,
     "metadata": {},
     "output_type": "execute_result"
    }
   ],
   "source": [
    "fuzz.ratio('geeksforgeeks', 'geeksgeeks') \n",
    "\n",
    "query = 'geeks for geeks'\n",
    "choices = ['geek for geek', 'geek geek', 'g. for geeks']  \n",
    "   \n",
    "# Get a list of matches ordered by score, default limit to 5 \n",
    "process.extract(query, choices) \n",
    "[('geeks geeks', 95), ('g. for geeks', 95), ('geek for geek', 93)] "
   ]
  },
  {
   "cell_type": "code",
   "execution_count": 4,
   "id": "43ab51b3",
   "metadata": {},
   "outputs": [
    {
     "data": {
      "text/plain": [
       "('geeks geeks', 95)"
      ]
     },
     "execution_count": 4,
     "metadata": {},
     "output_type": "execute_result"
    }
   ],
   "source": [
    "process.extractOne(query, choices) \n",
    "('geeks geeks', 95) "
   ]
  },
  {
   "cell_type": "code",
   "execution_count": 19,
   "id": "6ad98b5b",
   "metadata": {},
   "outputs": [
    {
     "name": "stdout",
     "output_type": "stream",
     "text": [
      "Fuzzy Ratio 100\n",
      "The string YSSRCIQDMLKGNGCLSSKKALSIHVISCIWEYLYCWFCDQS are approximately similar with differences: 3\n",
      "Fuzzy Ratio 98\n",
      "The string NYSSRCIQDMLKGNGCLSSKKALSIHVISCIWEYLYCWFCDQ are approximately similar with differences: 3\n",
      "Fuzzy Ratio 95\n",
      "The string KNYSSRCIQDMLKGNGCLSSKKALSIHVISCIWEYLYCWFCD are approximately similar with differences: 3\n",
      "['YSSRCIQDMLKGNGCLSSKKALSIHVISCIWEYLYCWFCDQS', 'YSSRCIQDMLKGNGCLSSKKALSIHVISCIWEYLYCWFCDQS', 'NYSSRCIQDMLKGNGCLSSKKALSIHVISCIWEYLYCWFCDQ', 'NYSSRCIQDMLKGNGCLSSKKALSIHVISCIWEYLYCWFCDQ', 'KNYSSRCIQDMLKGNGCLSSKKALSIHVISCIWEYLYCWFCD', 'KNYSSRCIQDMLKGNGCLSSKKALSIHVISCIWEYLYCWFCD']\n"
     ]
    }
   ],
   "source": [
    "def approximate_matching_with_k_differences(str1, str2, k):\n",
    "    # Calculate fuzz ratio (percentage of similarity) between the strings\n",
    "    fuzz_ratio = fuzz.ratio(str1, str2)\n",
    "    \n",
    "    # Calculate partial ratio allowing k differences\n",
    "#     string_differences = abs(len(str1) - len(str2)) + (max(len(str1), len(str2)) - (fuzz_ratio * max(len(str1), len(str2))) / 100)\n",
    "    string_differences = (max(len(str1), len(str2)) - (fuzz_ratio * max(len(str1), len(str2))) / 100)\n",
    "    \n",
    "    print(f\"Fuzzy Ratio {fuzz_ratio}\")\n",
    "    \n",
    "    # the score (fuzz raio) is out of 100, so to get the differences in the string we subtract fuzz ratio from 100\n",
    "    if string_differences <= k:\n",
    "        resultant_strings_with_k_diff.append(str1)\n",
    "        print(f\"The string {str1} are approximately similar with differences: {k}\")\n",
    "        return str1\n",
    "    else:\n",
    "        print(f\"The string {str1} are approximately not similar with differences: {k}\")\n",
    "        return -1\n",
    "\n",
    "target='YSSRCIQDMLKGNGCLSSKKALSIHVISCIWEYLYCWFCDQS'\n",
    "checkspotsstring=['YSSRCIQDMLKGNGCLSSKKALSIHVISCIWEYLYCWFCDQS','NYSSRCIQDMLKGNGCLSSKKALSIHVISCIWEYLYCWFCDQ','KNYSSRCIQDMLKGNGCLSSKKALSIHVISCIWEYLYCWFCD']\n",
    "resultant_strings_with_k_diff = []\n",
    "k = 3\n",
    "for substring in checkspotsstring:\n",
    "    similar_string = approximate_matching_with_k_differences(substring, target, k)\n",
    "    if similar_string !=1:\n",
    "        resultant_strings_with_k_diff.append(substring)\n",
    "print(resultant_strings_with_k_diff)"
   ]
  }
 ],
 "metadata": {
  "kernelspec": {
   "display_name": "Python 3 (ipykernel)",
   "language": "python",
   "name": "python3"
  },
  "language_info": {
   "codemirror_mode": {
    "name": "ipython",
    "version": 3
   },
   "file_extension": ".py",
   "mimetype": "text/x-python",
   "name": "python",
   "nbconvert_exporter": "python",
   "pygments_lexer": "ipython3",
   "version": "3.11.5"
  }
 },
 "nbformat": 4,
 "nbformat_minor": 5
}
