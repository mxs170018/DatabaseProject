{
 "cells": [
  {
   "cell_type": "code",
   "execution_count": 5,
   "metadata": {},
   "outputs": [
    {
     "name": "stdout",
     "output_type": "stream",
     "text": [
      "Input text : banana$\n",
      "Burrows - Wheeler Transform : annb$aa\n"
     ]
    }
   ],
   "source": [
    "\n",
    "#GEEKS FOR GEEKS, REPLACE LATER\n",
    "\n",
    "def cmp_func(x, y):\n",
    "\n",
    "    return (x[1] > y[1]) - (x[1] < y[1])\n",
    " \n",
    "# Takes text to be transformed and its length as arguments\n",
    "# and returns the corresponding suffix array\n",
    " \n",
    " \n",
    "\n",
    "def compute_suffix_array(input_text, len_text):\n",
    "\n",
    "    # Array of structures to store rotations and their indexes\n",
    "\n",
    "    suff = [(i, input_text[i:]) for i in range(len_text)]\n",
    "\n",
    "    # Sorts rotations using comparison function defined above\n",
    "\n",
    "    suff.sort(key=lambda x: x[1])\n",
    "    \n",
    "    first = \"\"\n",
    "\n",
    "    for seg in suff:\n",
    "        first += seg[1][0]\n",
    "\n",
    "    # Stores the indexes of sorted rotations\n",
    "\n",
    "    suffix_arr = [i for i, _ in suff]\n",
    " \n",
    "\n",
    "    # Returns the computed suffix array\n",
    "\n",
    "    return suffix_arr,first \n",
    " \n",
    "# Takes suffix array and its size as arguments\n",
    "# and returns the Burrows-Wheeler Transform of given text\n",
    " \n",
    "\n",
    "def find_last_char(input_text, suffix_arr, n):\n",
    "\n",
    "    # Iterates over the suffix array to\n",
    "\n",
    "    # find the last char of each cyclic rotation\n",
    "\n",
    "    bwt_arr = \"\"\n",
    "\n",
    "    for i in range(n):\n",
    "\n",
    "        # Computes the last char which is given by \n",
    "\n",
    "        # input_text[(suffix_arr[i] + n - 1) % n]\n",
    "\n",
    "        j = suffix_arr[i] - 1\n",
    "\n",
    "        if j < 0:\n",
    "\n",
    "            j = j + n\n",
    "\n",
    "        bwt_arr += input_text[j]\n",
    " \n",
    "\n",
    "    # Returns the computed Burrows-Wheeler Transform\n",
    "\n",
    "    return bwt_arr\n",
    " \n",
    " \n",
    "# Driver program to test functions above\n",
    "\n",
    "input_text = \"banana$\"\n",
    "\n",
    "len_text = len(input_text)\n",
    " \n",
    "# Computes the suffix array of our text\n",
    "\n",
    "suffix_arr,first = compute_suffix_array(input_text, len_text)\n",
    " \n",
    "# Adds to the output array the last char of each rotation\n",
    "\n",
    "bwt_arr = find_last_char(input_text, suffix_arr, len_text)\n",
    " \n",
    "\n",
    "print(\"Input text :\", input_text)\n",
    "\n",
    "print(\"Burrows - Wheeler Transform :\", bwt_arr)\n",
    "\n",
    " \n",
    "# This code is contributed by Susobhan Akhuli"
   ]
  },
  {
   "cell_type": "code",
   "execution_count": 6,
   "metadata": {},
   "outputs": [
    {
     "name": "stdout",
     "output_type": "stream",
     "text": [
      "Input text : gtataca$\n",
      "Burrows - Wheeler Transform : actta$ag\n"
     ]
    }
   ],
   "source": [
    "input_text = \"gtataca$\"\n",
    "\n",
    "len_text = len(input_text)\n",
    " \n",
    "# Computes the suffix array of our text\n",
    "\n",
    "suffix_arr,first = compute_suffix_array(input_text, len_text)\n",
    " \n",
    "# Adds to the output array the last char of each rotation\n",
    "\n",
    "bwt_arr = find_last_char(input_text, suffix_arr, len_text)\n",
    " \n",
    "\n",
    "print(\"Input text :\", input_text)\n",
    "\n",
    "print(\"Burrows - Wheeler Transform :\", bwt_arr)"
   ]
  },
  {
   "cell_type": "code",
   "execution_count": 7,
   "metadata": {},
   "outputs": [],
   "source": [
    "file = open(\"randProt1.txt\",'r')\n",
    "input = file.read()\n",
    "file.close()\n"
   ]
  },
  {
   "cell_type": "code",
   "execution_count": 8,
   "metadata": {},
   "outputs": [],
   "source": [
    "parsed = input.replace(\"\\n\",\"\")"
   ]
  },
  {
   "cell_type": "code",
   "execution_count": 9,
   "metadata": {},
   "outputs": [],
   "source": [
    "p23 = parsed "
   ]
  },
  {
   "cell_type": "code",
   "execution_count": 10,
   "metadata": {},
   "outputs": [],
   "source": [
    "parsed = \"gtataca$\""
   ]
  },
  {
   "cell_type": "code",
   "execution_count": 11,
   "metadata": {},
   "outputs": [],
   "source": [
    "sa, first = compute_suffix_array(parsed,len(parsed))\n"
   ]
  },
  {
   "cell_type": "code",
   "execution_count": 12,
   "metadata": {},
   "outputs": [],
   "source": [
    "bwt = find_last_char(parsed,sa,len(parsed))"
   ]
  },
  {
   "cell_type": "code",
   "execution_count": 13,
   "metadata": {},
   "outputs": [
    {
     "data": {
      "text/plain": [
       "'gtataca$'"
      ]
     },
     "execution_count": 13,
     "metadata": {},
     "output_type": "execute_result"
    }
   ],
   "source": [
    "parsed"
   ]
  },
  {
   "cell_type": "code",
   "execution_count": 14,
   "metadata": {},
   "outputs": [
    {
     "data": {
      "text/plain": [
       "[[0, 1, 2, 3, 4]]"
      ]
     },
     "execution_count": 14,
     "metadata": {},
     "output_type": "execute_result"
    }
   ],
   "source": [
    "targ = \"gcaca\"\n",
    "targRev = \"acacg\"\n",
    "mama = []\n",
    "mama.append([item for item in range(0,len(targ))])\n",
    "\n",
    "mama"
   ]
  },
  {
   "cell_type": "code",
   "execution_count": 15,
   "metadata": {},
   "outputs": [],
   "source": [
    "\n",
    "\n",
    "def computeDVector(prevD,char, target):\n",
    "    newD = []\n",
    "    for num in range(0,len(prevD)):\n",
    "        if num == 0:\n",
    "            newD.append(prevD[num]+1)\n",
    "        else:\n",
    "            op1 = newD[num-1] + 1 \n",
    "            op2 = prevD[num] + 1 \n",
    "            op3 = prevD[num-1] + 1 \n",
    "            \n",
    "            if target[num-1] == char:\n",
    "                op3 = op3-1\n",
    "            \n",
    "            minima = min(op1,op2,op3)\n",
    "           \n",
    "            newD.append(minima)\n",
    "        \n",
    "    return newD\n",
    "\n",
    "\n",
    "\n",
    "\n"
   ]
  },
  {
   "cell_type": "code",
   "execution_count": 16,
   "metadata": {},
   "outputs": [
    {
     "data": {
      "text/plain": [
       "[[0, 1, 2, 3, 4, 5], [1, 1, 2, 2, 3, 4]]"
      ]
     },
     "execution_count": 16,
     "metadata": {},
     "output_type": "execute_result"
    }
   ],
   "source": [
    "target = \"gcaca\"\n",
    "Dvectors = []\n",
    "Dvectors.append([item for item in range(0,len(target)+1)])\n",
    "#gaga = [2,2,1,2,2,3]\n",
    "Dvectors.append(computeDVector(Dvectors[-1],'a',target))#Dvectors[-1]\n",
    "\n",
    "Dvectors"
   ]
  },
  {
   "cell_type": "code",
   "execution_count": 17,
   "metadata": {},
   "outputs": [],
   "source": [
    "def getAlphabet(str2):\n",
    "    return sorted(list(set(str2)))"
   ]
  },
  {
   "cell_type": "code",
   "execution_count": 18,
   "metadata": {},
   "outputs": [],
   "source": [
    "def getAlphabetNoDollar(str2):\n",
    "    str3 = str2.replace('$','')\n",
    "    return sorted(list(set(str3)))\n",
    "    #return list(set(str3))"
   ]
  },
  {
   "cell_type": "code",
   "execution_count": 19,
   "metadata": {},
   "outputs": [],
   "source": [
    "def getFrequency(str):\n",
    "    alpha = getAlphabet(str)\n",
    "    freqC = [0 for _ in range(0,len(alpha))]\n",
    "    freq = []\n",
    "    for ch in str:\n",
    "        freqC[alpha.index(ch)] += 1\n",
    "        curr = freqC[alpha.index(ch)]\n",
    "        if ch == '$':\n",
    "            freq.append(0)\n",
    "        else: \n",
    "            freq.append(curr)\n",
    "    \n",
    "    return freq\n"
   ]
  },
  {
   "cell_type": "code",
   "execution_count": 20,
   "metadata": {},
   "outputs": [],
   "source": [
    "\n",
    "freqF = getFrequency(first)\n",
    "freqL = getFrequency(bwt)"
   ]
  },
  {
   "cell_type": "code",
   "execution_count": 21,
   "metadata": {},
   "outputs": [],
   "source": [
    "total = []\n",
    "for i in range(0,len(first)):\n",
    "    total.append([freqF[i],first[i],bwt[i],freqL[i]])"
   ]
  },
  {
   "cell_type": "code",
   "execution_count": 22,
   "metadata": {},
   "outputs": [
    {
     "data": {
      "text/plain": [
       "8"
      ]
     },
     "execution_count": 22,
     "metadata": {},
     "output_type": "execute_result"
    }
   ],
   "source": [
    "len(total)"
   ]
  },
  {
   "cell_type": "code",
   "execution_count": 23,
   "metadata": {},
   "outputs": [
    {
     "name": "stdout",
     "output_type": "stream",
     "text": [
      "0\n",
      "1\n",
      "2\n",
      "3\n",
      "4\n",
      "5\n",
      "6\n",
      "7\n"
     ]
    }
   ],
   "source": [
    "rangee = [0,8]\n",
    "for i in range(rangee[0],rangee[1]):\n",
    "    print(i)"
   ]
  },
  {
   "cell_type": "code",
   "execution_count": 24,
   "metadata": {},
   "outputs": [
    {
     "data": {
      "text/plain": [
       "[[0, '$', 'a', 1],\n",
       " [1, 'a', 'c', 1],\n",
       " [2, 'a', 't', 1],\n",
       " [3, 'a', 't', 2],\n",
       " [1, 'c', 'a', 2],\n",
       " [1, 'g', '$', 0],\n",
       " [1, 't', 'a', 3],\n",
       " [2, 't', 'g', 1]]"
      ]
     },
     "execution_count": 24,
     "metadata": {},
     "output_type": "execute_result"
    }
   ],
   "source": [
    "total"
   ]
  },
  {
   "cell_type": "code",
   "execution_count": 25,
   "metadata": {},
   "outputs": [],
   "source": [
    "def stringMHelper(parE,ChildE,total, rangee):\n",
    "    occ = []\n",
    "    if parE == '-':\n",
    "        for line in total:\n",
    "            if line[1] == ChildE:\n",
    "                occ.append(line[0])\n",
    "    else:\n",
    "        parOcc = []\n",
    "        for line in total:\n",
    "            if line[1] == parE:\n",
    "                if line[0] >= rangee[0] and line[0] <= rangee[1]:\n",
    "                    if line[2] == ChildE:\n",
    "                        occ.append(line[3])\n",
    "            \n",
    "    if(len(occ) >= 1):\n",
    "        return [occ[0],occ[-1]]\n",
    "    else:\n",
    "        return []\n"
   ]
  },
  {
   "cell_type": "code",
   "execution_count": 26,
   "metadata": {},
   "outputs": [
    {
     "data": {
      "text/plain": [
       "[1, 2]"
      ]
     },
     "execution_count": 26,
     "metadata": {},
     "output_type": "execute_result"
    }
   ],
   "source": [
    "dada = stringMHelper('a','t',total,[1,3])\n",
    "dada"
   ]
  },
  {
   "cell_type": "code",
   "execution_count": 34,
   "metadata": {},
   "outputs": [],
   "source": [
    "def stringM(target, bwt, k):\n",
    "    occurences = []\n",
    "    Dvectors = []\n",
    "    stack = []\n",
    "    stack.append((0,'',('-',[0,len(bwt)])))\n",
    "    #stack.append(\"-\", (1,len(first)))\n",
    "    alphabet = getAlphabetNoDollar(first)\n",
    "    \n",
    "    \n",
    "    while(len(stack)>0):\n",
    "        depth, par, (char,rnge) = stack.pop()\n",
    "        print(depth, par, char, rnge)\n",
    "        if (depth <= len(target)+k):\n",
    "            if(char == '-'):\n",
    "                prevD = [item for item in range(0,len(target)+1)]\n",
    "            else:\n",
    "                prevD = computeDVector(prevD,char,target)\n",
    "            Dvectors.append(prevD)\n",
    "\n",
    "            greaterK = True\n",
    "            for num in prevD:\n",
    "                if num <= k:\n",
    "                    greaterK = False\n",
    "\n",
    "            if not greaterK:\n",
    "                if(prevD[len(target)] <= k):\n",
    "                    occurences.append(prevD)\n",
    "                else:\n",
    "                    d = depth +1\n",
    "                    for lettr in reversed(alphabet): #WHAT?\n",
    "                        newRange = stringMHelper(char,lettr,total,rnge)\n",
    "                        if len(newRange) > 0:\n",
    "                                stack.append([d,char,(lettr,newRange)])\n",
    "        \n",
    "        print(stack)\n",
    "\n",
    "    return Dvectors,occurences\n"
   ]
  },
  {
   "cell_type": "code",
   "execution_count": 35,
   "metadata": {},
   "outputs": [],
   "source": [
    "target = \"gcaca\"\n",
    "y = \"gtataca$\"\n",
    "sa,first = compute_suffix_array(parsed,len(y))\n",
    "bwt = find_last_char(parsed,sa,len(y))\n"
   ]
  },
  {
   "cell_type": "code",
   "execution_count": 36,
   "metadata": {},
   "outputs": [
    {
     "name": "stdout",
     "output_type": "stream",
     "text": [
      "0  - [0, 8]\n",
      "[[1, '-', ('t', [1, 2])], [1, '-', ('g', [1, 1])], [1, '-', ('c', [1, 1])], [1, '-', ('a', [1, 3])]]\n",
      "1 - a [1, 3]\n",
      "[[1, '-', ('t', [1, 2])], [1, '-', ('g', [1, 1])], [1, '-', ('c', [1, 1])], [2, 'a', ('t', [1, 2])], [2, 'a', ('c', [1, 1])]]\n",
      "2 a c [1, 1]\n",
      "[[1, '-', ('t', [1, 2])], [1, '-', ('g', [1, 1])], [1, '-', ('c', [1, 1])], [2, 'a', ('t', [1, 2])], [3, 'c', ('a', [2, 2])]]\n",
      "3 c a [2, 2]\n",
      "[[1, '-', ('t', [1, 2])], [1, '-', ('g', [1, 1])], [1, '-', ('c', [1, 1])], [2, 'a', ('t', [1, 2])]]\n",
      "2 a t [1, 2]\n",
      "[[1, '-', ('t', [1, 2])], [1, '-', ('g', [1, 1])], [1, '-', ('c', [1, 1])], [3, 't', ('g', [1, 1])], [3, 't', ('a', [3, 3])]]\n",
      "3 t a [3, 3]\n",
      "[[1, '-', ('t', [1, 2])], [1, '-', ('g', [1, 1])], [1, '-', ('c', [1, 1])], [3, 't', ('g', [1, 1])]]\n",
      "3 t g [1, 1]\n",
      "[[1, '-', ('t', [1, 2])], [1, '-', ('g', [1, 1])], [1, '-', ('c', [1, 1])]]\n",
      "1 - c [1, 1]\n",
      "[[1, '-', ('t', [1, 2])], [1, '-', ('g', [1, 1])]]\n",
      "1 - g [1, 1]\n",
      "[[1, '-', ('t', [1, 2])]]\n",
      "1 - t [1, 2]\n",
      "[]\n"
     ]
    }
   ],
   "source": [
    "\n",
    "d,occ = stringM(target, total, 2)"
   ]
  },
  {
   "cell_type": "code",
   "execution_count": 37,
   "metadata": {},
   "outputs": [
    {
     "data": {
      "text/plain": [
       "[[0, 1, 2, 3, 4, 5],\n",
       " [1, 1, 2, 2, 3, 4],\n",
       " [2, 2, 1, 2, 2, 3],\n",
       " [3, 3, 2, 1, 2, 2],\n",
       " [4, 4, 3, 2, 2, 3],\n",
       " [5, 5, 4, 3, 3, 2],\n",
       " [6, 5, 5, 4, 4, 3],\n",
       " [7, 6, 5, 5, 4, 4],\n",
       " [8, 7, 6, 6, 5, 5],\n",
       " [9, 8, 7, 7, 6, 6]]"
      ]
     },
     "execution_count": 37,
     "metadata": {},
     "output_type": "execute_result"
    }
   ],
   "source": [
    "d"
   ]
  },
  {
   "cell_type": "code",
   "execution_count": 31,
   "metadata": {},
   "outputs": [
    {
     "data": {
      "text/plain": [
       "'t'"
      ]
     },
     "execution_count": 31,
     "metadata": {},
     "output_type": "execute_result"
    }
   ],
   "source": [
    "breh = y[1:2]\n",
    "breh"
   ]
  },
  {
   "cell_type": "code",
   "execution_count": 32,
   "metadata": {},
   "outputs": [],
   "source": [
    "targ = \"acacg\"\n",
    "targRev = \"gcaca\""
   ]
  },
  {
   "cell_type": "code",
   "execution_count": 33,
   "metadata": {},
   "outputs": [
    {
     "data": {
      "text/plain": [
       "['$', 'a', 'c', 'g', 't']"
      ]
     },
     "execution_count": 33,
     "metadata": {},
     "output_type": "execute_result"
    }
   ],
   "source": [
    "nana = \"gtataca$\"\n",
    "nono = list(set(nana))\n",
    "\n",
    "\n",
    "nono.sort()\n",
    "\n",
    "nono"
   ]
  }
 ],
 "metadata": {
  "kernelspec": {
   "display_name": "tf",
   "language": "python",
   "name": "python3"
  },
  "language_info": {
   "codemirror_mode": {
    "name": "ipython",
    "version": 3
   },
   "file_extension": ".py",
   "mimetype": "text/x-python",
   "name": "python",
   "nbconvert_exporter": "python",
   "pygments_lexer": "ipython3",
   "version": "3.9.15"
  }
 },
 "nbformat": 4,
 "nbformat_minor": 2
}
