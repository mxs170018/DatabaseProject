{
 "cells": [
  {
   "cell_type": "code",
   "execution_count": 97,
   "metadata": {},
   "outputs": [
    {
     "name": "stdout",
     "output_type": "stream",
     "text": [
      "Input text : banana$\n",
      "Burrows - Wheeler Transform : annb$aa\n"
     ]
    }
   ],
   "source": [
    "\n",
    "#GEEKS FOR GEEKS, REPLACE LATER\n",
    "\n",
    "def cmp_func(x, y):\n",
    "\n",
    "    return (x[1] > y[1]) - (x[1] < y[1])\n",
    " \n",
    "# Takes text to be transformed and its length as arguments\n",
    "# and returns the corresponding suffix array\n",
    " \n",
    " \n",
    "\n",
    "def compute_suffix_array(input_text, len_text):\n",
    "\n",
    "    # Array of structures to store rotations and their indexes\n",
    "\n",
    "    suff = [(i, input_text[i:]) for i in range(len_text)]\n",
    "\n",
    "    # Sorts rotations using comparison function defined above\n",
    "\n",
    "    suff.sort(key=lambda x: x[1])\n",
    "    \n",
    "    first = \"\"\n",
    "\n",
    "    for seg in suff:\n",
    "        first += seg[1][0]\n",
    "\n",
    "    # Stores the indexes of sorted rotations\n",
    "\n",
    "    suffix_arr = [i for i, _ in suff]\n",
    " \n",
    "\n",
    "    # Returns the computed suffix array\n",
    "\n",
    "    return suffix_arr,first \n",
    " \n",
    "# Takes suffix array and its size as arguments\n",
    "# and returns the Burrows-Wheeler Transform of given text\n",
    " \n",
    "\n",
    "def find_last_char(input_text, suffix_arr, n):\n",
    "\n",
    "    # Iterates over the suffix array to\n",
    "\n",
    "    # find the last char of each cyclic rotation\n",
    "\n",
    "    bwt_arr = \"\"\n",
    "\n",
    "    for i in range(n):\n",
    "\n",
    "        # Computes the last char which is given by \n",
    "\n",
    "        # input_text[(suffix_arr[i] + n - 1) % n]\n",
    "\n",
    "        j = suffix_arr[i] - 1\n",
    "\n",
    "        if j < 0:\n",
    "\n",
    "            j = j + n\n",
    "\n",
    "        bwt_arr += input_text[j]\n",
    " \n",
    "\n",
    "    # Returns the computed Burrows-Wheeler Transform\n",
    "\n",
    "    return bwt_arr\n",
    " \n",
    " \n",
    "# Driver program to test functions above\n",
    "\n",
    "input_text = \"banana$\"\n",
    "\n",
    "len_text = len(input_text)\n",
    " \n",
    "# Computes the suffix array of our text\n",
    "\n",
    "suffix_arr,first = compute_suffix_array(input_text, len_text)\n",
    " \n",
    "# Adds to the output array the last char of each rotation\n",
    "\n",
    "bwt_arr = find_last_char(input_text, suffix_arr, len_text)\n",
    " \n",
    "\n",
    "print(\"Input text :\", input_text)\n",
    "\n",
    "print(\"Burrows - Wheeler Transform :\", bwt_arr)\n",
    "\n",
    " \n",
    "# This code is contributed by Susobhan Akhuli"
   ]
  },
  {
   "cell_type": "code",
   "execution_count": 98,
   "metadata": {},
   "outputs": [
    {
     "name": "stdout",
     "output_type": "stream",
     "text": [
      "Input text : gtataca$\n",
      "Burrows - Wheeler Transform : actta$ag\n"
     ]
    }
   ],
   "source": [
    "input_text = \"gtataca$\"\n",
    "\n",
    "len_text = len(input_text)\n",
    " \n",
    "# Computes the suffix array of our text\n",
    "\n",
    "suffix_arr,first = compute_suffix_array(input_text, len_text)\n",
    " \n",
    "# Adds to the output array the last char of each rotation\n",
    "\n",
    "bwt_arr = find_last_char(input_text, suffix_arr, len_text)\n",
    " \n",
    "\n",
    "print(\"Input text :\", input_text)\n",
    "\n",
    "print(\"Burrows - Wheeler Transform :\", bwt_arr)"
   ]
  },
  {
   "cell_type": "code",
   "execution_count": 99,
   "metadata": {},
   "outputs": [],
   "source": [
    "file = open(\"randProt1.txt\",'r')\n",
    "input = file.read()\n",
    "file.close()\n"
   ]
  },
  {
   "cell_type": "code",
   "execution_count": 100,
   "metadata": {},
   "outputs": [],
   "source": [
    "parsed = input.replace(\"\\n\",\"\")"
   ]
  },
  {
   "cell_type": "code",
   "execution_count": 101,
   "metadata": {},
   "outputs": [],
   "source": [
    "p23 = parsed "
   ]
  },
  {
   "cell_type": "code",
   "execution_count": 102,
   "metadata": {},
   "outputs": [],
   "source": [
    "parsed = \"gtataca$\""
   ]
  },
  {
   "cell_type": "code",
   "execution_count": 103,
   "metadata": {},
   "outputs": [],
   "source": [
    "sa, first = compute_suffix_array(parsed,len(parsed))\n"
   ]
  },
  {
   "cell_type": "code",
   "execution_count": 104,
   "metadata": {},
   "outputs": [],
   "source": [
    "bwt = find_last_char(parsed,sa,len(parsed))"
   ]
  },
  {
   "cell_type": "code",
   "execution_count": 105,
   "metadata": {},
   "outputs": [
    {
     "data": {
      "text/plain": [
       "'gtataca$'"
      ]
     },
     "execution_count": 105,
     "metadata": {},
     "output_type": "execute_result"
    }
   ],
   "source": [
    "parsed"
   ]
  },
  {
   "cell_type": "code",
   "execution_count": 106,
   "metadata": {},
   "outputs": [
    {
     "data": {
      "text/plain": [
       "[[0, 1, 2, 3, 4]]"
      ]
     },
     "execution_count": 106,
     "metadata": {},
     "output_type": "execute_result"
    }
   ],
   "source": [
    "targ = \"gcaca\"\n",
    "targRev = \"acacg\"\n",
    "mama = []\n",
    "mama.append([item for item in range(0,len(targ))])\n",
    "\n",
    "mama"
   ]
  },
  {
   "cell_type": "code",
   "execution_count": 176,
   "metadata": {},
   "outputs": [],
   "source": [
    "\n",
    "\n",
    "def computeDVector(prevD,char, target):\n",
    "    newD = []\n",
    "    for num in range(0,len(prevD)):\n",
    "        if num == 0:\n",
    "            newD.append(prevD[num]+1)\n",
    "        else:\n",
    "            op1 = newD[num-1] + 1 \n",
    "            op2 = prevD[num] + 1 \n",
    "            op3 = prevD[num-1] + 1 \n",
    "            \n",
    "            if target[num-1] == char:\n",
    "                op3 = op3-1\n",
    "            \n",
    "            # if(char == 'a'):\n",
    "            #     print(\"\\n\",op1,op2,op3)\n",
    "            minima = min(op1,op2,op3)\n",
    "           \n",
    "            newD.append(minima)\n",
    "    \n",
    "    return newD\n",
    "\n",
    "\n",
    "\n",
    "\n"
   ]
  },
  {
   "cell_type": "code",
   "execution_count": 108,
   "metadata": {},
   "outputs": [
    {
     "data": {
      "text/plain": [
       "[[0, 1, 2, 3, 4, 5], [1, 1, 2, 2, 3, 4]]"
      ]
     },
     "execution_count": 108,
     "metadata": {},
     "output_type": "execute_result"
    }
   ],
   "source": [
    "target = \"gcaca\"\n",
    "Dvectors = []\n",
    "Dvectors.append([item for item in range(0,len(target)+1)])\n",
    "#gaga = [2,2,1,2,2,3]\n",
    "Dvectors.append(computeDVector(Dvectors[-1],'a',target))#Dvectors[-1]\n",
    "\n",
    "Dvectors"
   ]
  },
  {
   "cell_type": "code",
   "execution_count": 109,
   "metadata": {},
   "outputs": [],
   "source": [
    "def getAlphabet(str2):\n",
    "    return sorted(list(set(str2)))"
   ]
  },
  {
   "cell_type": "code",
   "execution_count": 110,
   "metadata": {},
   "outputs": [],
   "source": [
    "def getAlphabetNoDollar(str2):\n",
    "    str3 = str2.replace('$','')\n",
    "    return sorted(list(set(str3)))\n",
    "    #return list(set(str3))"
   ]
  },
  {
   "cell_type": "code",
   "execution_count": 111,
   "metadata": {},
   "outputs": [],
   "source": [
    "def getFrequency(str):\n",
    "    alpha = getAlphabet(str)\n",
    "    freqC = [0 for _ in range(0,len(alpha))]\n",
    "    freq = []\n",
    "    for ch in str:\n",
    "        freqC[alpha.index(ch)] += 1\n",
    "        curr = freqC[alpha.index(ch)]\n",
    "        if ch == '$':\n",
    "            freq.append(0)\n",
    "        else: \n",
    "            freq.append(curr)\n",
    "    \n",
    "    return freq\n"
   ]
  },
  {
   "cell_type": "code",
   "execution_count": 112,
   "metadata": {},
   "outputs": [],
   "source": [
    "\n",
    "freqF = getFrequency(first)\n",
    "freqL = getFrequency(bwt)"
   ]
  },
  {
   "cell_type": "code",
   "execution_count": 113,
   "metadata": {},
   "outputs": [],
   "source": [
    "total = []\n",
    "for i in range(0,len(first)):\n",
    "    total.append([freqF[i],first[i],bwt[i],freqL[i]])"
   ]
  },
  {
   "cell_type": "code",
   "execution_count": 114,
   "metadata": {},
   "outputs": [
    {
     "data": {
      "text/plain": [
       "8"
      ]
     },
     "execution_count": 114,
     "metadata": {},
     "output_type": "execute_result"
    }
   ],
   "source": [
    "len(total)"
   ]
  },
  {
   "cell_type": "code",
   "execution_count": 115,
   "metadata": {},
   "outputs": [
    {
     "name": "stdout",
     "output_type": "stream",
     "text": [
      "0\n",
      "1\n",
      "2\n",
      "3\n",
      "4\n",
      "5\n",
      "6\n",
      "7\n"
     ]
    }
   ],
   "source": [
    "rangee = [0,8]\n",
    "for i in range(rangee[0],rangee[1]):\n",
    "    print(i)"
   ]
  },
  {
   "cell_type": "code",
   "execution_count": 116,
   "metadata": {},
   "outputs": [
    {
     "data": {
      "text/plain": [
       "[[0, '$', 'a', 1],\n",
       " [1, 'a', 'c', 1],\n",
       " [2, 'a', 't', 1],\n",
       " [3, 'a', 't', 2],\n",
       " [1, 'c', 'a', 2],\n",
       " [1, 'g', '$', 0],\n",
       " [1, 't', 'a', 3],\n",
       " [2, 't', 'g', 1]]"
      ]
     },
     "execution_count": 116,
     "metadata": {},
     "output_type": "execute_result"
    }
   ],
   "source": [
    "total"
   ]
  },
  {
   "cell_type": "code",
   "execution_count": 177,
   "metadata": {},
   "outputs": [],
   "source": [
    "def stringMHelper(parE,ChildE,total, rangee):\n",
    "    occ = []\n",
    "    if parE == '-':\n",
    "        for line in total:\n",
    "            if line[1] == ChildE:\n",
    "                occ.append(line[0])\n",
    "    else:\n",
    "        parOcc = []\n",
    "        for line in total:\n",
    "            if line[1] == parE:\n",
    "                if line[0] >= rangee[0] and line[0] <= rangee[1]:\n",
    "                    if line[2] == ChildE:\n",
    "                        occ.append(line[3])\n",
    "            \n",
    "    if(len(occ) >= 1):\n",
    "        return [occ[0],occ[-1]]\n",
    "    else:\n",
    "        return []\n"
   ]
  },
  {
   "cell_type": "code",
   "execution_count": 118,
   "metadata": {},
   "outputs": [
    {
     "data": {
      "text/plain": [
       "[1, 2]"
      ]
     },
     "execution_count": 118,
     "metadata": {},
     "output_type": "execute_result"
    }
   ],
   "source": [
    "dada = stringMHelper('a','t',total,[1,3])\n",
    "dada"
   ]
  },
  {
   "cell_type": "code",
   "execution_count": 178,
   "metadata": {},
   "outputs": [],
   "source": [
    "def stringM(target, total, k):\n",
    "    occurences = []\n",
    "    Dvectors = {}\n",
    "    stack = []\n",
    "    stack.append((0,0,'-',('-',[0,len(bwt)])))\n",
    "    #stack.append(\"-\", (1,len(first)))\n",
    "    alphabet = getAlphabetNoDollar(first)\n",
    "    \n",
    "    \n",
    "    while(len(stack)>0):\n",
    "        print(stack)\n",
    "        depth, depthPar,par, (char,rnge) = stack.pop()\n",
    "        \n",
    "        #print(Dvectors)\n",
    "        \n",
    "        if (depth <= len(target)+k):\n",
    "            if(char == '-'):\n",
    "                dVect = [item for item in range(0,len(target)+1)]\n",
    "            else:\n",
    "                dVect = computeDVector(Dvectors[(par,depthPar)],char[-1],target)\n",
    "            Dvectors[(char,depth)] = dVect\n",
    "\n",
    "            greaterK = True\n",
    "            for num in dVect:\n",
    "                if num <= k:\n",
    "                    greaterK = False\n",
    "\n",
    "            if not greaterK:\n",
    "                if(dVect[len(target)] <= k):\n",
    "                    occurences.append(char)\n",
    "                else:\n",
    "                    d2= depth\n",
    "                    d = depth +1\n",
    "                    \n",
    "                    for lettr in reversed(alphabet): #so A is popped first\n",
    "                        currentChar = char[-1]\n",
    "                        newRange = stringMHelper(currentChar,lettr,total,rnge)\n",
    "                        if len(newRange) > 0:\n",
    "                                childChar = char + lettr\n",
    "                                stack.append([d,d2,char,(childChar,newRange)])\n",
    "        \n",
    "        \n",
    "\n",
    "    return Dvectors,occurences\n"
   ]
  },
  {
   "cell_type": "code",
   "execution_count": 148,
   "metadata": {},
   "outputs": [],
   "source": [
    "target = \"gcaca\"\n",
    "y = \"gtataca$\"\n",
    "sa,first = compute_suffix_array(parsed,len(y))\n",
    "bwt = find_last_char(parsed,sa,len(y))\n"
   ]
  },
  {
   "cell_type": "code",
   "execution_count": 179,
   "metadata": {},
   "outputs": [
    {
     "name": "stdout",
     "output_type": "stream",
     "text": [
      "[(0, 0, '-', ('-', [0, 8]))]\n",
      "[[1, 0, '-', ('-t', [1, 2])], [1, 0, '-', ('-g', [1, 1])], [1, 0, '-', ('-c', [1, 1])], [1, 0, '-', ('-a', [1, 3])]]\n",
      "[[1, 0, '-', ('-t', [1, 2])], [1, 0, '-', ('-g', [1, 1])], [1, 0, '-', ('-c', [1, 1])], [2, 1, '-a', ('-at', [1, 2])], [2, 1, '-a', ('-ac', [1, 1])]]\n",
      "[[1, 0, '-', ('-t', [1, 2])], [1, 0, '-', ('-g', [1, 1])], [1, 0, '-', ('-c', [1, 1])], [2, 1, '-a', ('-at', [1, 2])], [3, 2, '-ac', ('-aca', [2, 2])]]\n",
      "[[1, 0, '-', ('-t', [1, 2])], [1, 0, '-', ('-g', [1, 1])], [1, 0, '-', ('-c', [1, 1])], [2, 1, '-a', ('-at', [1, 2])]]\n",
      "[[1, 0, '-', ('-t', [1, 2])], [1, 0, '-', ('-g', [1, 1])], [1, 0, '-', ('-c', [1, 1])], [3, 2, '-at', ('-atg', [1, 1])], [3, 2, '-at', ('-ata', [3, 3])]]\n",
      "[[1, 0, '-', ('-t', [1, 2])], [1, 0, '-', ('-g', [1, 1])], [1, 0, '-', ('-c', [1, 1])], [3, 2, '-at', ('-atg', [1, 1])], [4, 3, '-ata', ('-atat', [2, 2])]]\n",
      "[[1, 0, '-', ('-t', [1, 2])], [1, 0, '-', ('-g', [1, 1])], [1, 0, '-', ('-c', [1, 1])], [3, 2, '-at', ('-atg', [1, 1])]]\n",
      "[[1, 0, '-', ('-t', [1, 2])], [1, 0, '-', ('-g', [1, 1])], [1, 0, '-', ('-c', [1, 1])]]\n",
      "[[1, 0, '-', ('-t', [1, 2])], [1, 0, '-', ('-g', [1, 1])], [2, 1, '-c', ('-ca', [2, 2])]]\n",
      "[[1, 0, '-', ('-t', [1, 2])], [1, 0, '-', ('-g', [1, 1])], [3, 2, '-ca', ('-cat', [1, 1])]]\n",
      "[[1, 0, '-', ('-t', [1, 2])], [1, 0, '-', ('-g', [1, 1])], [4, 3, '-cat', ('-cata', [3, 3])]]\n",
      "[[1, 0, '-', ('-t', [1, 2])], [1, 0, '-', ('-g', [1, 1])]]\n",
      "[[1, 0, '-', ('-t', [1, 2])]]\n",
      "[[2, 1, '-t', ('-tg', [1, 1])], [2, 1, '-t', ('-ta', [3, 3])]]\n",
      "[[2, 1, '-t', ('-tg', [1, 1])], [3, 2, '-ta', ('-tat', [2, 2])]]\n",
      "[[2, 1, '-t', ('-tg', [1, 1])]]\n"
     ]
    }
   ],
   "source": [
    "\n",
    "d,occ = stringM(target, total, 2)"
   ]
  },
  {
   "cell_type": "code",
   "execution_count": 180,
   "metadata": {},
   "outputs": [
    {
     "data": {
      "text/plain": [
       "{('-', 0): [0, 1, 2, 3, 4, 5],\n",
       " ('-a', 1): [1, 1, 2, 2, 3, 4],\n",
       " ('-ac', 2): [2, 2, 1, 2, 2, 3],\n",
       " ('-aca', 3): [3, 3, 2, 1, 2, 2],\n",
       " ('-at', 2): [2, 2, 2, 3, 3, 4],\n",
       " ('-ata', 3): [3, 3, 3, 2, 3, 3],\n",
       " ('-atat', 4): [4, 4, 4, 3, 3, 4],\n",
       " ('-atg', 3): [3, 2, 3, 3, 4, 4],\n",
       " ('-c', 1): [1, 1, 1, 2, 3, 4],\n",
       " ('-ca', 2): [2, 2, 2, 1, 2, 3],\n",
       " ('-cat', 3): [3, 3, 3, 2, 2, 3],\n",
       " ('-cata', 4): [4, 4, 4, 3, 3, 2],\n",
       " ('-g', 1): [1, 0, 1, 2, 3, 4],\n",
       " ('-t', 1): [1, 1, 2, 3, 4, 5],\n",
       " ('-ta', 2): [2, 2, 2, 2, 3, 4],\n",
       " ('-tat', 3): [3, 3, 3, 3, 3, 4],\n",
       " ('-tg', 2): [2, 1, 2, 3, 4, 5]}"
      ]
     },
     "execution_count": 180,
     "metadata": {},
     "output_type": "execute_result"
    }
   ],
   "source": [
    "d"
   ]
  },
  {
   "cell_type": "code",
   "execution_count": 181,
   "metadata": {},
   "outputs": [
    {
     "data": {
      "text/plain": [
       "['-aca', '-cata']"
      ]
     },
     "execution_count": 181,
     "metadata": {},
     "output_type": "execute_result"
    }
   ],
   "source": [
    "occ"
   ]
  },
  {
   "cell_type": "code",
   "execution_count": 123,
   "metadata": {},
   "outputs": [
    {
     "data": {
      "text/plain": [
       "'t'"
      ]
     },
     "execution_count": 123,
     "metadata": {},
     "output_type": "execute_result"
    }
   ],
   "source": [
    "breh = y[1:2]\n",
    "breh"
   ]
  },
  {
   "cell_type": "code",
   "execution_count": 124,
   "metadata": {},
   "outputs": [],
   "source": [
    "targ = \"acacg\"\n",
    "targRev = \"gcaca\""
   ]
  },
  {
   "cell_type": "code",
   "execution_count": 125,
   "metadata": {},
   "outputs": [
    {
     "data": {
      "text/plain": [
       "['$', 'a', 'c', 'g', 't']"
      ]
     },
     "execution_count": 125,
     "metadata": {},
     "output_type": "execute_result"
    }
   ],
   "source": [
    "nana = \"gtataca$\"\n",
    "nono = list(set(nana))\n",
    "\n",
    "\n",
    "nono.sort()\n",
    "\n",
    "nono"
   ]
  },
  {
   "cell_type": "code",
   "execution_count": 126,
   "metadata": {},
   "outputs": [
    {
     "name": "stdout",
     "output_type": "stream",
     "text": [
      "3.9.15 (main, Nov 24 2022, 14:39:17) [MSC v.1916 64 bit (AMD64)]\n",
      "sys.version_info(major=3, minor=9, micro=15, releaselevel='final', serial=0)\n"
     ]
    }
   ],
   "source": [
    "import sys\n",
    "print(sys.version)\n",
    "print(sys.version_info)"
   ]
  }
 ],
 "metadata": {
  "kernelspec": {
   "display_name": "tf",
   "language": "python",
   "name": "python3"
  },
  "language_info": {
   "codemirror_mode": {
    "name": "ipython",
    "version": 3
   },
   "file_extension": ".py",
   "mimetype": "text/x-python",
   "name": "python",
   "nbconvert_exporter": "python",
   "pygments_lexer": "ipython3",
   "version": "3.9.15"
  }
 },
 "nbformat": 4,
 "nbformat_minor": 2
}
