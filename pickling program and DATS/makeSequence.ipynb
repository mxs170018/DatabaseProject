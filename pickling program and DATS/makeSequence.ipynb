{
 "cells": [
  {
   "cell_type": "code",
   "execution_count": 108,
   "metadata": {},
   "outputs": [],
   "source": [
    "import random\n",
    "import pickle"
   ]
  },
  {
   "cell_type": "code",
   "execution_count": 49,
   "metadata": {},
   "outputs": [],
   "source": [
    "def mutate(stri,mut,alpha):\n",
    "    \n",
    "    re = \"\"\n",
    "    indices = [i for i in range(0,len(stri))]\n",
    "    possInd= []\n",
    "    \n",
    "    for _ in range(0,mut):\n",
    "        num = random.choice(indices)\n",
    "        while(num in possInd):\n",
    "            num = random.choice(indices)\n",
    "    \n",
    "\n",
    "    for i in range(0,len(stri)):\n",
    "        char = stri[i]\n",
    "        tempChar = char\n",
    "        if i in possInd:\n",
    "            tempChar = random.choice(alpha)\n",
    "            while tempChar != char:\n",
    "                tempChar = random.choice(alpha)\n",
    "        \n",
    "        re += tempChar\n",
    "    \n",
    "    return re\n",
    "\n",
    "\n",
    "\n",
    "def getAlphabet(str2):\n",
    "    return sorted(list(set(str2)))"
   ]
  },
  {
   "cell_type": "code",
   "execution_count": 48,
   "metadata": {},
   "outputs": [],
   "source": [
    "def makeSequences(ranges, length, numSequences, data,outFile):\n",
    "    possMut = [i for i in range(*ranges)]\n",
    "    \n",
    "    alpha = getAlphabet(data)\n",
    "    rand= int(random.random()*len(data))\n",
    "   \n",
    "    if rand > len(data)/2:\n",
    "        rand = rand - length\n",
    "    mama = open(outFile,'w')\n",
    "\n",
    "    for i in range(0,numSequences):\n",
    "        rand= int(random.random()*len(data))\n",
    "        mut = random.choice(possMut)\n",
    "        if rand > len(data)/2:\n",
    "            rand = rand - length\n",
    "        \n",
    "        seq = data[rand:rand+length]\n",
    "        stri = mutate(seq,mut,alpha)\n",
    "    \n",
    "        mama.write(stri+\"\\n\")\n",
    "\n",
    "    mama.close()"
   ]
  },
  {
   "cell_type": "code",
   "execution_count": 101,
   "metadata": {},
   "outputs": [],
   "source": [
    "def makeSequence(ranges, length, numSequences, data):\n",
    "    sequences = []\n",
    "    possMut = [i for i in range(*ranges)]\n",
    "    \n",
    "    alpha = getAlphabet(data)\n",
    "    rand= int(random.random()*len(data))\n",
    "   \n",
    "    if rand > len(data)/2:\n",
    "        rand = rand - length\n",
    "    \n",
    "\n",
    "    for i in range(0,numSequences):\n",
    "        rand= int(random.random()*len(data))\n",
    "        mut = random.choice(possMut)\n",
    "        if rand > len(data)/2:\n",
    "            rand = rand - length\n",
    "        \n",
    "        seq = data[rand:rand+length]\n",
    "        stri = mutate(seq,mut,alpha)\n",
    "    \n",
    "        sequences.append(stri)\n",
    "\n",
    "    return sequences"
   ]
  },
  {
   "cell_type": "code",
   "execution_count": 47,
   "metadata": {},
   "outputs": [],
   "source": [
    "def openAndParse(fileName):\n",
    "    name = fileName.lower()\n",
    "    parse = []\n",
    "    if name == \"gorilla\":\n",
    "        print(\"Gorrilla\")\n",
    "        f = open(\"gorilla1.dat\")\n",
    "        unparsed = f.readlines()\n",
    "        f.close()\n",
    "    \n",
    "    elif name ==\"zebrafish\":\n",
    "        print(\"Zebra\")\n",
    "        f = open(\"zebrafish.dat\")\n",
    "        unparsed = f.readlines()\n",
    "        f.close()\n",
    "       \n",
    "    elif name == \"prot1\":\n",
    "        f = open(\"prot1.txt\")\n",
    "        unparsed = f.readlines()\n",
    "        f.close()\n",
    "    elif name ==\"prot2\":\n",
    "        f = open(\"prot2.txt\")\n",
    "        unparsed = f.readlines()\n",
    "        f.close()\n",
    "    else:\n",
    "        return \"ERRROR\"\n",
    "    \n",
    "    print(len(unparsed),len(unparsed[0]))\n",
    "    for lin in unparsed:\n",
    "        \n",
    "        a = lin.replace(\"\\n\",\"\").replace(\" \",\"\")\n",
    "        b = [i for i in a if i.isalpha()]\n",
    "        c = \"\".join(b)\n",
    "        parse.append(c)\n",
    "\n",
    "    out = \"\".join(parse)\n",
    "\n",
    "\n",
    "    return out\n",
    "\n"
   ]
  },
  {
   "cell_type": "code",
   "execution_count": 106,
   "metadata": {},
   "outputs": [
    {
     "name": "stdout",
     "output_type": "stream",
     "text": [
      "Gorrilla\n",
      "2999 74\n",
      "Zebra\n",
      "2500 76\n",
      "480 61\n",
      "100 61\n"
     ]
    }
   ],
   "source": [
    "# \"gorillaSeq.txt\"\n",
    "# \"zebrafishSeq.txt\"\n",
    "# \"prot1Seq.txt\"\n",
    "# \"prot2Seq.txt\"\n",
    "\n",
    "\n",
    "names = [\"gorilla\",\"zebrafish\",\"prot1\",'prot2']\n",
    "tc1 = {}\n",
    "\n",
    "for name in names:\n",
    "    data = openAndParse(name)\n",
    "    if name == \"gorilla\" or name == \"zebrafish\":\n",
    "        tc1[name] = makeSequence((1,7),50,5,data)\n",
    "    else:\n",
    "        tc1[name] = makeSequence((1,5),50,5,data)"
   ]
  },
  {
   "cell_type": "code",
   "execution_count": 107,
   "metadata": {},
   "outputs": [
    {
     "data": {
      "text/plain": [
       "{'gorilla': ['TGTTTTGTTACTGTAGCTGTTAAAATGTCCATGCATATAGGCTGGGGAGG',\n",
       "  'TTCCTTAAAGGGAAACACACTGTTTCAGTTAAAGCCTTGGTAAAATAACC',\n",
       "  'AACACACTGTACATTGTGTTGATAGAGCTAATTATTTGTTAAAAGCATAC',\n",
       "  'GGGGAGAGTGGAAGGTGGGCCATGGTGGGAGTAAATGTGTCTGACACTCC',\n",
       "  'GGTGTGGTGGTTCACACCTGTAATCCCAGCAGTTTGAGAGGCCAAGGCAG'],\n",
       " 'zebrafish': ['TTGCTTTAAAGAGAATTTTAAAACTGCTGTGTAAATGACCACCGTGCACA',\n",
       "  'GATTACACTTCGCTCATTATTATCTTTGAAAAAAGTTGAAAATTGCATAA',\n",
       "  'AAAGGAATAAACACATTAAGGGTGTTTGCTGAAATACGTATTAAAATCTG',\n",
       "  'CTTTTTACCTAGTTTTTACACAGCCTTGAGATCTGTGGACAAGCAAATGA',\n",
       "  'GTTGGTTCGTCATTTGAGCAGCAAAAAGAGCTGATTAGAATGCAACCGTT'],\n",
       " 'prot1': ['YWNRWYMDEHPSTAWPYPDKQRARNKPRHLVITDEWKKLNEGCISPFSWK',\n",
       "  'QNRCSCRFIEVCDPYWKRGNQDIWWKNNNHWSLWMYALHRAQGKRKNTHL',\n",
       "  'TWLEFGYCTCYQFPYMAHNVKCNRRVEFMGCEYKHVHIKPDHRDPNQLGA',\n",
       "  'HKVHKKDIEAEATNCWQRRFFGKYAITKNNWTMPYLSSLRHWRITEKDVE',\n",
       "  'HWEYNQDWIPYNNQWMRSRCDGMVEIPHHKQEFFRRGPLCAGWARKPCAM'],\n",
       " 'prot2': ['NLQRHEVDYTTREKDIVPSWQVMTVTANNNTKTLDAESRTWILQHFWPHH',\n",
       "  'DWCKWWTGCAVQCKKCNIRENTQEPPKNNRWWDLMFGWRQVCFVVIHPKG',\n",
       "  'EQEMFRIHTQPWIHFAPADKCPTNAEYICYASKDVLIPRKTFWEDHIMLL',\n",
       "  'AAADKWCIHIKSNMTKRMWRDSAHFERCGQAGHFNAALDHHVKHQIHMHL',\n",
       "  'MVYFIAYKTRGGDPVPGAVKRAMFPWNEKQPLGKGWYPSYHFDFMIRWYE']}"
      ]
     },
     "execution_count": 107,
     "metadata": {},
     "output_type": "execute_result"
    }
   ],
   "source": [
    "tc1"
   ]
  },
  {
   "cell_type": "code",
   "execution_count": 112,
   "metadata": {},
   "outputs": [],
   "source": [
    "yy = open(\"tc1Patterns\",\"wb\")\n",
    "pickle.dump(tc1,yy)\n",
    "yy.close()"
   ]
  },
  {
   "cell_type": "code",
   "execution_count": 113,
   "metadata": {},
   "outputs": [],
   "source": [
    "yy = open(\"tc1Patterns\",\"rb\")\n",
    "check = pickle.load(yy)\n",
    "yy.close()"
   ]
  },
  {
   "cell_type": "code",
   "execution_count": 114,
   "metadata": {},
   "outputs": [
    {
     "data": {
      "text/plain": [
       "{'gorilla': ['TGTTTTGTTACTGTAGCTGTTAAAATGTCCATGCATATAGGCTGGGGAGG',\n",
       "  'TTCCTTAAAGGGAAACACACTGTTTCAGTTAAAGCCTTGGTAAAATAACC',\n",
       "  'AACACACTGTACATTGTGTTGATAGAGCTAATTATTTGTTAAAAGCATAC',\n",
       "  'GGGGAGAGTGGAAGGTGGGCCATGGTGGGAGTAAATGTGTCTGACACTCC',\n",
       "  'GGTGTGGTGGTTCACACCTGTAATCCCAGCAGTTTGAGAGGCCAAGGCAG'],\n",
       " 'zebrafish': ['TTGCTTTAAAGAGAATTTTAAAACTGCTGTGTAAATGACCACCGTGCACA',\n",
       "  'GATTACACTTCGCTCATTATTATCTTTGAAAAAAGTTGAAAATTGCATAA',\n",
       "  'AAAGGAATAAACACATTAAGGGTGTTTGCTGAAATACGTATTAAAATCTG',\n",
       "  'CTTTTTACCTAGTTTTTACACAGCCTTGAGATCTGTGGACAAGCAAATGA',\n",
       "  'GTTGGTTCGTCATTTGAGCAGCAAAAAGAGCTGATTAGAATGCAACCGTT'],\n",
       " 'prot1': ['YWNRWYMDEHPSTAWPYPDKQRARNKPRHLVITDEWKKLNEGCISPFSWK',\n",
       "  'QNRCSCRFIEVCDPYWKRGNQDIWWKNNNHWSLWMYALHRAQGKRKNTHL',\n",
       "  'TWLEFGYCTCYQFPYMAHNVKCNRRVEFMGCEYKHVHIKPDHRDPNQLGA',\n",
       "  'HKVHKKDIEAEATNCWQRRFFGKYAITKNNWTMPYLSSLRHWRITEKDVE',\n",
       "  'HWEYNQDWIPYNNQWMRSRCDGMVEIPHHKQEFFRRGPLCAGWARKPCAM'],\n",
       " 'prot2': ['NLQRHEVDYTTREKDIVPSWQVMTVTANNNTKTLDAESRTWILQHFWPHH',\n",
       "  'DWCKWWTGCAVQCKKCNIRENTQEPPKNNRWWDLMFGWRQVCFVVIHPKG',\n",
       "  'EQEMFRIHTQPWIHFAPADKCPTNAEYICYASKDVLIPRKTFWEDHIMLL',\n",
       "  'AAADKWCIHIKSNMTKRMWRDSAHFERCGQAGHFNAALDHHVKHQIHMHL',\n",
       "  'MVYFIAYKTRGGDPVPGAVKRAMFPWNEKQPLGKGWYPSYHFDFMIRWYE']}"
      ]
     },
     "execution_count": 114,
     "metadata": {},
     "output_type": "execute_result"
    }
   ],
   "source": [
    "check"
   ]
  }
 ],
 "metadata": {
  "kernelspec": {
   "display_name": "tf",
   "language": "python",
   "name": "python3"
  },
  "language_info": {
   "codemirror_mode": {
    "name": "ipython",
    "version": 3
   },
   "file_extension": ".py",
   "mimetype": "text/x-python",
   "name": "python",
   "nbconvert_exporter": "python",
   "pygments_lexer": "ipython3",
   "version": "3.9.15"
  }
 },
 "nbformat": 4,
 "nbformat_minor": 2
}
