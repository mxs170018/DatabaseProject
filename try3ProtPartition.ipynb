{
 "cells": [
  {
   "cell_type": "code",
   "execution_count": 1,
   "metadata": {},
   "outputs": [],
   "source": [
    "\n",
    "# GEEKS FOR GEEKS\n",
    "# This code is contributed by Susobhan Akhuli\n",
    "\n",
    "def compute_suffix_array(input_text, len_text):\n",
    "\n",
    "    # Array of structures to store rotations and their indexes\n",
    "    suff = [(i, input_text[i:]) for i in range(len_text)]\n",
    "\n",
    "    # Sorts rotations using comparison function defined above\n",
    "    suff.sort(key=lambda x: x[1])\n",
    "    \n",
    "    first = \"\"\n",
    "    for seg in suff:\n",
    "        first += seg[1][0]\n",
    "\n",
    "    # Stores the indexes of sorted rotations\n",
    "    suffix_arr = [i for i, _ in suff]\n",
    " \n",
    "\n",
    "    # Returns the computed suffix array\n",
    "    return suffix_arr,first \n",
    " \n",
    "# Takes suffix array and its size as arguments\n",
    "# and returns the Burrows-Wheeler Transform of given text\n",
    "\n",
    "def find_last_char(input_text, suffix_arr, n):\n",
    "\n",
    "    # Iterates over the suffix array to\n",
    "    # find the last char of each cyclic rotation\n",
    "    bwt_arr = \"\"\n",
    "\n",
    "    for i in range(n):\n",
    "        # Computes the last char which is given by \n",
    "        # input_text[(suffix_arr[i] + n - 1) % n]\n",
    "        j = suffix_arr[i] - 1\n",
    "\n",
    "        if j < 0:\n",
    "            j = j + n\n",
    "\n",
    "        bwt_arr += input_text[j]\n",
    " \n",
    "    # Returns the computed Burrows-Wheeler Transform\n",
    "    return bwt_arr\n",
    " \n"
   ]
  },
  {
   "cell_type": "code",
   "execution_count": 2,
   "metadata": {},
   "outputs": [
    {
     "name": "stdout",
     "output_type": "stream",
     "text": [
      "Input text : gtataca$\n",
      "Burrows - Wheeler Transform : actta$ag\n"
     ]
    }
   ],
   "source": [
    "input_text = \"gtataca$\"\n",
    "\n",
    "len_text = len(input_text)\n",
    " \n",
    "# Computes the suffix array of our text\n",
    "\n",
    "suffix_arr,first = compute_suffix_array(input_text, len_text)\n",
    " \n",
    "# Adds to the output array the last char of each rotation\n",
    "\n",
    "bwt_arr = find_last_char(input_text, suffix_arr, len_text)\n",
    " \n",
    "\n",
    "print(\"Input text :\", input_text)\n",
    "\n",
    "print(\"Burrows - Wheeler Transform :\", bwt_arr)"
   ]
  },
  {
   "cell_type": "code",
   "execution_count": null,
   "metadata": {},
   "outputs": [],
   "source": []
  },
  {
   "cell_type": "code",
   "execution_count": 3,
   "metadata": {},
   "outputs": [],
   "source": [
    "file = open(\"randProt1.txt\",'r')\n",
    "input = file.read()\n",
    "file.close()\n"
   ]
  },
  {
   "cell_type": "code",
   "execution_count": 4,
   "metadata": {},
   "outputs": [],
   "source": [
    "parsed = input.replace('\\n','')+\"$\""
   ]
  },
  {
   "cell_type": "code",
   "execution_count": 5,
   "metadata": {},
   "outputs": [],
   "source": [
    "f = open(\"parsedrandProt1.txt\",'w')\n",
    "f.write(parsed)\n",
    "f.close()"
   ]
  },
  {
   "cell_type": "code",
   "execution_count": 6,
   "metadata": {},
   "outputs": [
    {
     "data": {
      "text/plain": [
       "30001"
      ]
     },
     "execution_count": 6,
     "metadata": {},
     "output_type": "execute_result"
    }
   ],
   "source": [
    "len(parsed)"
   ]
  },
  {
   "cell_type": "code",
   "execution_count": 7,
   "metadata": {},
   "outputs": [],
   "source": [
    "\n",
    "\n",
    "def computeDVector(prevD,char, target):\n",
    "    newD = []\n",
    "    for num in range(0,len(prevD)):\n",
    "        if num == 0:\n",
    "            newD.append(prevD[num]+1)\n",
    "        else:\n",
    "            op1 = newD[num-1] + 1 \n",
    "            op2 = prevD[num] + 1 \n",
    "            op3 = prevD[num-1] + 1 \n",
    "            \n",
    "            if target[num-1] == char:\n",
    "                op3 = op3-1\n",
    "            \n",
    "            # if(char == 'a'):\n",
    "            #     print(\"\\n\",op1,op2,op3)\n",
    "            minima = min(op1,op2,op3)\n",
    "           \n",
    "            newD.append(minima)\n",
    "    \n",
    "    return newD\n",
    "\n",
    "\n",
    "\n",
    "\n"
   ]
  },
  {
   "cell_type": "code",
   "execution_count": 8,
   "metadata": {},
   "outputs": [],
   "source": [
    "def getAlphabet(str2):\n",
    "    return sorted(list(set(str2)))"
   ]
  },
  {
   "cell_type": "code",
   "execution_count": 9,
   "metadata": {},
   "outputs": [],
   "source": [
    "def getAlphabetNoDollar(str2):\n",
    "    str3 = str2.replace('$','')\n",
    "    return sorted(list(set(str3)))\n",
    "    #return list(set(str3))"
   ]
  },
  {
   "cell_type": "code",
   "execution_count": 10,
   "metadata": {},
   "outputs": [],
   "source": [
    "def getFrequency(str):\n",
    "    alpha = getAlphabet(str)\n",
    "    freqC = [0 for _ in range(0,len(alpha))]\n",
    "    freq = []\n",
    "    for ch in str:\n",
    "        freqC[alpha.index(ch)] += 1\n",
    "        curr = freqC[alpha.index(ch)]\n",
    "        if ch == '$':\n",
    "            freq.append(0)\n",
    "        else: \n",
    "            freq.append(curr)\n",
    "    \n",
    "    return freq\n"
   ]
  },
  {
   "cell_type": "code",
   "execution_count": 11,
   "metadata": {},
   "outputs": [],
   "source": [
    "def stringMHelper(parE,ChildE,total, rangee):\n",
    "    occ = []\n",
    "    if parE == '-':\n",
    "        for line in total:\n",
    "            if line[1] == ChildE:\n",
    "                occ.append(line[0])\n",
    "    else:\n",
    "        parOcc = []\n",
    "        for line in total:\n",
    "            if line[1] == parE:\n",
    "                if line[0] >= rangee[0] and line[0] <= rangee[1]:\n",
    "                    if line[2] == ChildE:\n",
    "                        occ.append(line[3])\n",
    "            \n",
    "    if(len(occ) >= 1):\n",
    "        return [occ[0],occ[-1]]\n",
    "    else:\n",
    "        return []\n"
   ]
  },
  {
   "cell_type": "code",
   "execution_count": 12,
   "metadata": {},
   "outputs": [],
   "source": [
    "def stringM(target, total, k):\n",
    "    occurences = []\n",
    "    Dvectors = {}\n",
    "    stack = []\n",
    "    stack.append((0,0,'-',('-',[0,len(bwt)])))\n",
    "    #stack.append(\"-\", (1,len(first)))\n",
    "    alphabet = getAlphabetNoDollar(first)\n",
    "    \n",
    "    \n",
    "    while(len(stack)>0):\n",
    "        #print(stack)\n",
    "        depth, depthPar,par, (char,rnge) = stack.pop()\n",
    "        \n",
    "        #print(Dvectors)\n",
    "        \n",
    "        if (depth <= len(target)+k):\n",
    "            if(char == '-'):\n",
    "                dVect = [item for item in range(0,len(target)+1)]\n",
    "            else:\n",
    "                dVect = computeDVector(Dvectors[(par,depthPar)],char[-1],target)\n",
    "            Dvectors[(char,depth)] = dVect\n",
    "\n",
    "            greaterK = True\n",
    "            for num in dVect:\n",
    "                if num <= k:\n",
    "                    greaterK = False\n",
    "\n",
    "            if not greaterK:\n",
    "                if(dVect[len(target)] <= k):\n",
    "                    occurences.append(char)\n",
    "                else:\n",
    "                    d2= depth\n",
    "                    d = depth +1\n",
    "                    \n",
    "                    for lettr in reversed(alphabet): #so A is popped first\n",
    "                        currentChar = char[-1]\n",
    "                        newRange = stringMHelper(currentChar,lettr,total,rnge)\n",
    "                        if len(newRange) > 0:\n",
    "                                childChar = char + lettr\n",
    "                                stack.append([d,d2,char,(childChar,newRange)])\n",
    "        \n",
    "        \n",
    "\n",
    "    return Dvectors,occurences\n"
   ]
  },
  {
   "cell_type": "code",
   "execution_count": 13,
   "metadata": {},
   "outputs": [],
   "source": [
    "target = \"YSSRCIQRMLKGNGDLSSKKALSIHVISCIWEYLYCWF\"\n",
    "sa,first = compute_suffix_array(parsed,len(parsed))\n",
    "bwt = find_last_char(parsed,sa,len(parsed))"
   ]
  },
  {
   "cell_type": "code",
   "execution_count": 14,
   "metadata": {},
   "outputs": [],
   "source": [
    "freqF = getFrequency(first)\n",
    "freqL = getFrequency(bwt)"
   ]
  },
  {
   "cell_type": "code",
   "execution_count": 15,
   "metadata": {},
   "outputs": [
    {
     "data": {
      "text/plain": [
       "30001"
      ]
     },
     "execution_count": 15,
     "metadata": {},
     "output_type": "execute_result"
    }
   ],
   "source": [
    "total = []\n",
    "for i in range(0,len(first)):\n",
    "    total.append([freqF[i],first[i],bwt[i],freqL[i]])\n",
    "len(total)"
   ]
  },
  {
   "cell_type": "code",
   "execution_count": 16,
   "metadata": {},
   "outputs": [
    {
     "data": {
      "text/plain": [
       "'YSSRCIQRMLKGNGDLSSKKALSIHVISCIWEYLYCWF'"
      ]
     },
     "execution_count": 16,
     "metadata": {},
     "output_type": "execute_result"
    }
   ],
   "source": [
    "target"
   ]
  },
  {
   "cell_type": "code",
   "execution_count": 215,
   "metadata": {},
   "outputs": [],
   "source": [
    "# Partition Variables\n",
    "\n",
    "partitionSplit = []\n",
    "numSubPatterns = 3\n",
    "lengthTarget = len(target)\n",
    "# Just math.ceil without importing math\n",
    "charactersPerSub = -(-lengthTarget//numSubPatterns)\n",
    "previousEnd = 0"
   ]
  },
  {
   "cell_type": "code",
   "execution_count": 216,
   "metadata": {},
   "outputs": [],
   "source": [
    "# Splitting the target string into the smaller sub patterns and reversing each of those\n",
    "for num in range(0,numSubPatterns):\n",
    "    if (num == numSubPatterns-1):\n",
    "        partitionSplit.append(target[num*charactersPerSub:len(target)][::-1])\n",
    "    else:\n",
    "        partitionSplit.append(target[num*charactersPerSub:(num+1)*charactersPerSub][::-1])"
   ]
  },
  {
   "cell_type": "code",
   "execution_count": 217,
   "metadata": {},
   "outputs": [],
   "source": [
    "#len(target)"
   ]
  },
  {
   "cell_type": "code",
   "execution_count": 218,
   "metadata": {},
   "outputs": [],
   "source": [
    "#partitionSplit"
   ]
  },
  {
   "cell_type": "code",
   "execution_count": 219,
   "metadata": {},
   "outputs": [],
   "source": [
    "# defining k and smallK which is the k for each sub pattern (floored).\n",
    "k = 3\n",
    "smallK = int(k/numSubPatterns)\n",
    "#smallK"
   ]
  },
  {
   "cell_type": "code",
   "execution_count": 220,
   "metadata": {},
   "outputs": [],
   "source": [
    "# Putting every sub pattern through stringM to get all their occurences.\n",
    "\n",
    "allOcc = []\n",
    "#import time\n",
    "\n",
    "#start = time.time()\n",
    "for subPattern in partitionSplit:\n",
    "    d,occ = stringM(subPattern, total, smallK)\n",
    "    allOcc.append(occ)\n",
    "#end = time.time()\n",
    "#print(end-start)"
   ]
  },
  {
   "cell_type": "code",
   "execution_count": 221,
   "metadata": {},
   "outputs": [],
   "source": [
    "#len(allOcc)"
   ]
  },
  {
   "cell_type": "code",
   "execution_count": 222,
   "metadata": {},
   "outputs": [],
   "source": [
    "# Finding where each of the occurences are (reverse them back) in the parsed, getting the end of the substring and putting it into a pair. (SubPatternNum, IndexOfEndOfSubstring)\n",
    "\n",
    "checkSpots = []\n",
    "\n",
    "counterTemp = 0\n",
    "\n",
    "for subPatternOccs in allOcc:\n",
    "    for occurence in subPatternOccs:\n",
    "        startSpot = parsed.find(occurence[1::][::-1])\n",
    "        while startSpot > -1:\n",
    "            checkSpots.append((counterTemp,startSpot+len(occurence)-1))\n",
    "            #startSpot = parsed.find(occurence[1::][::-1],startSpot+1)\n",
    "            startSpot = -1\n",
    "    counterTemp = counterTemp + 1"
   ]
  },
  {
   "cell_type": "code",
   "execution_count": 223,
   "metadata": {},
   "outputs": [],
   "source": [
    "#len(checkSpots)"
   ]
  },
  {
   "cell_type": "code",
   "execution_count": 224,
   "metadata": {},
   "outputs": [],
   "source": [
    "# This currently just for testing if the partition worked. Needs to be changed to instead of the if replace it with a approximate string match algo.\n",
    "# Right now it is just testing by seeing if it has found a known occurence of the target.\n",
    "tracker = []\n",
    "copyList_Partition = []\n",
    "flagDupe = True\n",
    "for spotToCheck in checkSpots:\n",
    "    flagDupe = True\n",
    "    testCopyList_Partition = spotToCheck[1]-(spotToCheck[0]+1)*charactersPerSub+1-k\n",
    "    for existingTrackers in copyList_Partition:\n",
    "        if abs(testCopyList_Partition-existingTrackers) < 2*k:\n",
    "            flagDupe = False\n",
    "    if flagDupe:\n",
    "        copyList_Partition.append(testCopyList_Partition)\n",
    "        tracker.append((parsed[spotToCheck[1]-(spotToCheck[0]+1)*charactersPerSub+1-k:spotToCheck[1]-(spotToCheck[0]+1)*charactersPerSub+1+lengthTarget+k],testCopyList_Partition))\n",
    "#len(tracker)"
   ]
  },
  {
   "cell_type": "code",
   "execution_count": 225,
   "metadata": {},
   "outputs": [],
   "source": [
    "#tracker"
   ]
  },
  {
   "cell_type": "code",
   "execution_count": 226,
   "metadata": {},
   "outputs": [],
   "source": [
    "from fuzzywuzzy import fuzz \n",
    "from fuzzywuzzy import process \n",
    "\n",
    "def approximate_matching_with_k_differences(str1, str2, k):\n",
    "    # Calculate fuzz ratio (percentage of similarity) between the strings\n",
    "    fuzz_ratio = fuzz.ratio(str1, str2)\n",
    "    \n",
    "    # Calculate partial ratio allowing k differences\n",
    "    string_differences = (max(len(str1), len(str2)) - (fuzz_ratio * max(len(str1), len(str2))) / 100)\n",
    "        \n",
    "    # the score (fuzz raio) is out of 100, so to get the differences in the string we subtract fuzz ratio from 100\n",
    "    if string_differences <= k:\n",
    "        resultant_strings_with_k_diff.append(str1)\n",
    "        #print(f\"The string {str1} and {str2} are approximately similar with differences: {k}\")\n",
    "        return str1\n",
    "    else:\n",
    "        #print(f\"The string {str1} and {str2} are approximately not similar with differences: {k}\")\n",
    "        return \"\"\n",
    "\n",
    "resultant_strings_with_k_diff = []\n",
    "dupe_grabber_last = []\n",
    "\n",
    "for occurence in tracker:\n",
    "    for i in range(0,2*k):\n",
    "        similar_string = approximate_matching_with_k_differences(occurence[0][i:len(occurence[0])-(2*k - i)], target, k)\n",
    "        if len(similar_string) > 0:\n",
    "            if occurence[1] not in dupe_grabber_last:\n",
    "                dupe_grabber_last.append(occurence[1])\n"
   ]
  },
  {
   "cell_type": "code",
   "execution_count": 227,
   "metadata": {},
   "outputs": [
    {
     "data": {
      "text/plain": [
       "1"
      ]
     },
     "execution_count": 227,
     "metadata": {},
     "output_type": "execute_result"
    }
   ],
   "source": [
    "len(resultant_strings_with_k_diff)"
   ]
  },
  {
   "cell_type": "code",
   "execution_count": 228,
   "metadata": {},
   "outputs": [
    {
     "data": {
      "text/plain": [
       "[3184]"
      ]
     },
     "execution_count": 228,
     "metadata": {},
     "output_type": "execute_result"
    }
   ],
   "source": [
    "dupe_grabber_last"
   ]
  },
  {
   "cell_type": "code",
   "execution_count": 214,
   "metadata": {},
   "outputs": [
    {
     "data": {
      "text/plain": [
       "'YSSRCIQRMLKGNGDLSSKKALSIHVISCIWEYLYCWF'"
      ]
     },
     "execution_count": 214,
     "metadata": {},
     "output_type": "execute_result"
    }
   ],
   "source": [
    "target"
   ]
  },
  {
   "cell_type": "code",
   "execution_count": 37,
   "metadata": {},
   "outputs": [],
   "source": [
    "targ = \"acacg\"\n",
    "targRev = \"gcaca\""
   ]
  },
  {
   "cell_type": "code",
   "execution_count": 38,
   "metadata": {},
   "outputs": [
    {
     "data": {
      "text/plain": [
       "['$', 'a', 'c', 'g', 't']"
      ]
     },
     "execution_count": 38,
     "metadata": {},
     "output_type": "execute_result"
    }
   ],
   "source": [
    "nana = \"gtataca$\"\n",
    "nono = list(set(nana))\n",
    "\n",
    "\n",
    "nono.sort()\n",
    "\n",
    "nono"
   ]
  },
  {
   "cell_type": "code",
   "execution_count": 39,
   "metadata": {},
   "outputs": [
    {
     "name": "stdout",
     "output_type": "stream",
     "text": [
      "3.10.6 (tags/v3.10.6:9c7b4bd, Aug  1 2022, 21:53:49) [MSC v.1932 64 bit (AMD64)]\n",
      "sys.version_info(major=3, minor=10, micro=6, releaselevel='final', serial=0)\n"
     ]
    }
   ],
   "source": [
    "import sys\n",
    "print(sys.version)\n",
    "print(sys.version_info)"
   ]
  },
  {
   "cell_type": "code",
   "execution_count": null,
   "metadata": {},
   "outputs": [],
   "source": []
  }
 ],
 "metadata": {
  "kernelspec": {
   "display_name": "Python 3 (ipykernel)",
   "language": "python",
   "name": "python3"
  },
  "language_info": {
   "codemirror_mode": {
    "name": "ipython",
    "version": 3
   },
   "file_extension": ".py",
   "mimetype": "text/x-python",
   "name": "python",
   "nbconvert_exporter": "python",
   "pygments_lexer": "ipython3",
   "version": "3.10.6"
  }
 },
 "nbformat": 4,
 "nbformat_minor": 4
}
